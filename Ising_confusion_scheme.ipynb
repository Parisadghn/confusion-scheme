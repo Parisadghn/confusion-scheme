{
  "nbformat": 4,
  "nbformat_minor": 0,
  "metadata": {
    "colab": {
      "provenance": []
    },
    "kernelspec": {
      "name": "python3",
      "display_name": "Python 3"
    },
    "language_info": {
      "name": "python"
    }
  },
  "cells": [
    {
      "cell_type": "code",
      "execution_count": 1,
      "metadata": {
        "id": "iaJZYBjclW7N"
      },
      "outputs": [],
      "source": [
        "import matplotlib.pyplot as plt\n",
        "import numpy as np\n",
        "import pickle\n",
        "from scipy.ndimage import convolve, generate_binary_structure\n",
        "from numba import njit, prange\n",
        "from sklearn.model_selection import train_test_split\n",
        "import tensorflow as tf\n",
        "from tqdm import tqdm"
      ]
    },
    {
      "cell_type": "code",
      "source": [
        "# Initial State example\n",
        "def randomstate(N):\n",
        "    return 2 * np.random.randint(2, size=(N, N)) - 1\n",
        "N = 30\n",
        "lattice = randomstate(N)\n",
        "plt.imshow(lattice , cmap = 'binary_r')"
      ],
      "metadata": {
        "colab": {
          "base_uri": "https://localhost:8080/",
          "height": 447
        },
        "id": "dO6za_xfli62",
        "outputId": "2c116f01-7435-463e-896c-c4255767bf40"
      },
      "execution_count": 2,
      "outputs": [
        {
          "output_type": "execute_result",
          "data": {
            "text/plain": [
              "<matplotlib.image.AxesImage at 0x7f54d20035e0>"
            ]
          },
          "metadata": {},
          "execution_count": 2
        },
        {
          "output_type": "display_data",
          "data": {
            "text/plain": [
              "<Figure size 640x480 with 1 Axes>"
            ],
            "image/png": "[encoded data removed]"
          },
          "metadata": {}
        }
      ]
    },
    {
      "cell_type": "code",
      "source": [
        "def get_energy(lattice):\n",
        "    # applies the nearest neighbours summation\n",
        "    kern = generate_binary_structure(2, 1) \n",
        "    kern[1][1] = False\n",
        "    arr = -lattice * convolve(lattice, kern, mode='constant', cval=0)\n",
        "    return arr.sum()\n",
        "get_energy(lattice)"
      ],
      "metadata": {
        "colab": {
          "base_uri": "https://localhost:8080/"
        },
        "id": "qQJQBudWllPG",
        "outputId": "edfc9ce4-bc32-42a6-cfe1-7c8b5734f75a"
      },
      "execution_count": 3,
      "outputs": [
        {
          "output_type": "execute_result",
          "data": {
            "text/plain": [
              "-120"
            ]
          },
          "metadata": {},
          "execution_count": 3
        }
      ]
    },
    {
      "cell_type": "code",
      "source": [
        "#Metropolis algorithm\n",
        "@njit(parallel=True) # looping\n",
        "def metropolis_step(lattice, T):\n",
        "    for _ in prange(N * N):\n",
        "        x, y = np.random.randint(0, N), np.random.randint(0, N)\n",
        "        deltaE = 2 * lattice[x, y] * (lattice[(x + 1) % N, y] + lattice[x, (y + 1) % N] + \n",
        "                       lattice[(x - 1) % N, y] + lattice[x, (y - 1) % N])\n",
        "        if deltaE < 0:\n",
        "            lattice[x, y] *= -1\n",
        "        elif np.random.rand() < np.exp(-deltaE / T):\n",
        "            lattice[x, y] *= -1"
      ],
      "metadata": {
        "id": "VR52P4cSlnj0"
      },
      "execution_count": 4,
      "outputs": []
    },
    {
      "cell_type": "code",
      "source": [
        "# Critical Temperature Lars Onsager\n",
        "Bc = 0.5 * np.log(1 + np.sqrt(2))\n",
        "Tc = 1/Bc\n",
        "print(f'The critical temperature is {Tc}')"
      ],
      "metadata": {
        "colab": {
          "base_uri": "https://localhost:8080/"
        },
        "id": "_JFjN1jblrD-",
        "outputId": "a82262e6-f719-411e-896c-aa6dec22b41d"
      },
      "execution_count": 5,
      "outputs": [
        {
          "output_type": "stream",
          "name": "stdout",
          "text": [
            "The critical temperature is 2.269185314213022\n"
          ]
        }
      ]
    },
    {
      "cell_type": "code",
      "source": [
        "Msteps, Esteps, ntemp = [5000, 2000, 2000]\n",
        "T = np.linspace(1., 3.5, ntemp)\n",
        "magnetization = []"
      ],
      "metadata": {
        "id": "bYmPIbn9lu0X"
      },
      "execution_count": 6,
      "outputs": []
    },
    {
      "cell_type": "code",
      "source": [
        "# Initializing spins and labels\n",
        "spins, labels = np.zeros((0, N * N)), np.zeros((0, 2))\n",
        "high, low = np.array([1, 0]), np.array([0, 1])"
      ],
      "metadata": {
        "id": "ROtv0DQKlwt7"
      },
      "execution_count": 7,
      "outputs": []
    },
    {
      "cell_type": "code",
      "source": [
        "for index, temp in enumerate(tqdm(T)):\n",
        "    tmp = []\n",
        "\n",
        "    for _ in range(Esteps):\n",
        "        metropolis_step(lattice, temp)\n",
        "\n",
        "    # Loop over spin configurations\n",
        "    for mc in range(Msteps):\n",
        "        if mc % 200 == 0:\n",
        "            tmp.append(np.sum(lattice))\n",
        "        metropolis_step(lattice, temp)\n",
        "    spins = np.vstack((spins, lattice.ravel()))\n",
        "\n",
        "    if temp < Tc:\n",
        "        labels = np.vstack((labels, low))\n",
        "    else:\n",
        "        labels = np.vstack((labels, high))\n",
        "\n",
        "    magnetization.append(np.mean(tmp) / (N * N))\n",
        "\n",
        "# Save data\n",
        "def save(object, filename):\n",
        "    with open(filename + '.pickle', 'wb') as f:\n",
        "        pickle.dump(object, f)\n",
        "save(0.5 * (spins + 1), 'train_spins'), save(labels, 'train_labels'), save(T, 'temperature')"
      ],
      "metadata": {
        "colab": {
          "base_uri": "https://localhost:8080/"
        },
        "id": "E9prE9V2l0VK",
        "outputId": "0386a03c-a402-4f4a-c68c-2fb6e6747477"
      },
      "execution_count": 8,
      "outputs": [
        {
          "output_type": "stream",
          "name": "stderr",
          "text": [
            "100%|██████████| 2000/2000 [10:07<00:00,  3.29it/s]\n"
          ]
        },
        {
          "output_type": "execute_result",
          "data": {
            "text/plain": [
              "(None, None, None)"
            ]
          },
          "metadata": {},
          "execution_count": 8
        }
      ]
    },
    {
      "cell_type": "code",
      "source": [
        "# Loading data\n",
        "def load(filename):\n",
        "    with open(filename + '.pickle', 'rb') as f:\n",
        "        return pickle.load(f)\n",
        "\n",
        "data_x = load('train_spins')\n",
        "temp = load('temperature')\n",
        "dim = len(temp)"
      ],
      "metadata": {
        "id": "McuNsDKbmLYq"
      },
      "execution_count": 9,
      "outputs": []
    },
    {
      "cell_type": "code",
      "source": [
        "training_epochs = 100\n",
        "\n",
        "# Network Parameters\n",
        "n_hidden_1 = 2 * N* N\n",
        "n_input = N * N\n",
        "n_classes = 2"
      ],
      "metadata": {
        "id": "PFVOtdi3pVM0"
      },
      "execution_count": 10,
      "outputs": []
    },
    {
      "cell_type": "code",
      "source": [
        "tf.random.set_seed(42)\n",
        "tf.compat.v1.disable_eager_execution()\n",
        "x = tf.compat.v1.placeholder(\"float\", [None, n_input])\n",
        "y = tf.compat.v1.placeholder(\"float\", [None, n_classes])"
      ],
      "metadata": {
        "id": "RQyojlV_pXQ9"
      },
      "execution_count": 11,
      "outputs": []
    },
    {
      "cell_type": "code",
      "source": [
        "weights = {\n",
        "    'h1': tf.Variable(tf.random.normal([n_input, n_hidden_1])),\n",
        "    'out': tf.Variable(tf.random.normal([n_hidden_1, n_classes]))\n",
        "}\n",
        "biases = {\n",
        "    'b1': tf.Variable(tf.constant(0.1, shape=[n_hidden_1])),\n",
        "    'out': tf.Variable(tf.constant(0.1, shape=[n_classes]))\n",
        "}"
      ],
      "metadata": {
        "id": "KH6v5iSlpZfU"
      },
      "execution_count": 12,
      "outputs": []
    },
    {
      "cell_type": "code",
      "source": [
        "# Model\n",
        "\n",
        "def single_sigmoid(x, weights, biases):\n",
        "    layer_1 = tf.sigmoid(tf.matmul(x, weights['h1']) + biases['b1'])\n",
        "    out_layer = tf.matmul(layer_1, weights['out']) + biases['out']\n",
        "    return out_layer\n",
        "\n",
        "def initialize_model(x, weights, biases):\n",
        "\n",
        "    # Construct model, define cost and optimizer\n",
        "    pred = single_sigmoid(x, weights, biases)\n",
        "    cost = tf.reduce_mean(tf.compat.v1.nn.softmax_cross_entropy_with_logits_v2(logits=pred, labels=y))\n",
        "    regularizer = tf.nn.l2_loss(weights['h1']) + tf.nn.l2_loss(weights['out'])\n",
        "    cost = tf.reduce_mean(cost + l2 * regularizer)\n",
        "    optimizer = tf.compat.v1.train.AdamOptimizer(learning_rate=learning_rate).minimize(cost)\n",
        "\n",
        "    return pred, cost, optimizer"
      ],
      "metadata": {
        "id": "KKrRbyxbpeUq"
      },
      "execution_count": 13,
      "outputs": []
    },
    {
      "cell_type": "code",
      "source": [
        "learning_rate = 1e-3\n",
        "l2 = 1e-4\n",
        "step = 25 # Step in confusion scheme\n",
        "accuracy = []\n",
        "\n",
        "\n",
        "# Loop over proposed critical temperatures\n",
        "for pos in tqdm(range(0, dim, step)):\n",
        "\n",
        "\n",
        "    # Initializing the variables\n",
        "    pred, cost, optimizer = initialize_model(x, weights, biases)\n",
        "    sess = tf.compat.v1.InteractiveSession()\n",
        "    tf.compat.v1.global_variables_initializer().run()\n",
        "\n",
        "    # Generate label for training\n",
        "    low = np.array([[0] * (dim - pos), [1] * (dim - pos)]).T\n",
        "    high = np.array([[1] * pos, [0] * pos]).T\n",
        "    data_y = np.vstack((low, high))\n",
        "\n",
        "    # Take subset of data for training\n",
        "    train_x, _, train_y, _ = train_test_split(data_x, data_y, \n",
        "                                              train_size=0.25, random_state=42)\n",
        "    \n",
        "    for epoch in range(100):\n",
        "\n",
        "        perm = np.arange(len(train_x))\n",
        "        np.random.shuffle(perm)\n",
        "        train_x, train_y = train_x[perm], train_y[perm]\n",
        "\n",
        "        # Train network\n",
        "        _, c = sess.run([optimizer, cost], feed_dict={x: train_x, y: train_y})\n",
        "\n",
        "\n",
        "    correct_prediction = tf.equal(tf.argmax(pred, 1), tf.argmax(y, 1))\n",
        "    accuracy_tmp = tf.reduce_mean(tf.cast(correct_prediction, \"float\"))\n",
        "    accuracy.append(accuracy_tmp.eval({x: data_x, y: data_y}))\n",
        "    sess.close()\n",
        "\n",
        "\n",
        "a = np.linspace(1., 3.5, len(accuracy))\n",
        "plt.plot(a, accuracy, '-o', label = 'epoch = 100')\n",
        "plt.xlabel('Temperature')\n",
        "plt.ylabel('Accuracy')\n",
        "plt.legend()\n",
        "plt.grid()\n",
        "plt.savefig(f'{learning_rate}-{l2}.png')"
      ],
      "metadata": {
        "colab": {
          "base_uri": "https://localhost:8080/",
          "height": 521
        },
        "id": "2KxSqjG1phKj",
        "outputId": "f7ca5ee4-52dc-404a-ccff-eefaee0f10a1"
      },
      "execution_count": 15,
      "outputs": [
        {
          "output_type": "stream",
          "name": "stderr",
          "text": [
            "\r  0%|          | 0/80 [00:00<?, ?it/s]/usr/local/lib/python3.10/dist-packages/tensorflow/python/client/session.py:1769: UserWarning: An interactive session is already active. This can cause out-of-memory errors in some cases. You must explicitly call `InteractiveSession.close()` to release resources held by the other session(s).\n",
            "  warnings.warn('An interactive session is already active. This can '\n",
            "100%|██████████| 80/80 [18:43<00:00, 14.05s/it]\n"
          ]
        },
        {
          "output_type": "display_data",
          "data": {
            "text/plain": [
              "<Figure size 640x480 with 1 Axes>"
            ],
            "image/png": "[encoded data removed]"
          },
          "metadata": {}
        }
      ]
    },
    {
      "cell_type": "code",
      "source": [
        "# Max accuracy\n",
        "\n",
        "alpha = [x for x in accuracy[30:60]]\n",
        "def find_max(z):\n",
        "  vector = []\n",
        "  for i, j in enumerate(z):\n",
        "    if j == np.max(alpha):\n",
        "        vector.append(i)\n",
        "  return np.max(vector)\n",
        "\n",
        "Tc_pred = a[find_max(accuracy[30:60])+30]\n",
        "acc = np.max(accuracy[30:60])\n",
        "print(\"The predicted critical temperature is {}\".format(Tc_pred), \n",
        "      \" with accuracy {}\".format(acc), \" | temperature error is {}\".format((Tc_pred - Tc)/Tc))"
      ],
      "metadata": {
        "colab": {
          "base_uri": "https://localhost:8080/"
        },
        "id": "R6yYYyQDr1IX",
        "outputId": "d156fb81-a843-4a76-e48e-3a1a582d761c"
      },
      "execution_count": 17,
      "outputs": [
        {
          "output_type": "stream",
          "name": "stdout",
          "text": [
            "The predicted critical temperature is 2.329113924050633  with accuracy 0.9505000114440918  | temperature error is 0.026409746908834866\n"
          ]
        }
      ]
    },
    {
      "cell_type": "code",
      "source": [],
      "metadata": {
        "id": "Zs7BD6l0wFM7"
      },
      "execution_count": null,
      "outputs": []
    }
  ]
}